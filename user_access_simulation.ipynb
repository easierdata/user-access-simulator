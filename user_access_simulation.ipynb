{
 "cells": [
  {
   "cell_type": "markdown",
   "metadata": {},
   "source": [
    "# Simulate a user accessing scenes to estimate # of sectors needed to unseal"
   ]
  },
  {
   "cell_type": "markdown",
   "metadata": {},
   "source": [
    "## Imports"
   ]
  },
  {
   "cell_type": "code",
   "execution_count": null,
   "metadata": {},
   "outputs": [],
   "source": [
    "%matplotlib inline\n",
    "import random\n",
    "import geopandas as gpd\n",
    "from scipy.spatial import KDTree\n",
    "import numpy as np\n",
    "import pandas as pd\n",
    "from matplotlib import pyplot as plt\n",
    "# pd.options.display.max_rows = 999\n",
    "import folium"
   ]
  },
  {
   "cell_type": "markdown",
   "metadata": {},
   "source": [
    "## Prepare Geometries"
   ]
  },
  {
   "cell_type": "markdown",
   "metadata": {},
   "source": [
    "[Landsat Descending Path/Row shapefile](https://www.usgs.gov/media/files/landsat-wrs-2-descending-path-row-shapefile)\n",
    "\n",
    "[US States boundaries 20m:1 shapefile](https://www.census.gov/geographies/mapping-files/time-series/geo/carto-boundary-file.html)\n",
    "\n",
    "[MSA boundaries 20m:1 shapefile](https://www.census.gov/geographies/mapping-files/time-series/geo/carto-boundary-file.html)"
   ]
  },
  {
   "cell_type": "code",
   "execution_count": null,
   "metadata": {},
   "outputs": [],
   "source": [
    "def process_geometry(geom, study_area):\n",
    "    \"\"\"\n",
    "    Reproject geometry to study area projection and clip to study area. Reset index because features are dropped during clipping.\n",
    "    \"\"\"\n",
    "    geom.to_crs(study_area.crs, inplace=True)\n",
    "    geom = gpd.clip(geom, study_area)\n",
    "    geom.reset_index(inplace=True, drop=True)\n",
    "    return geom\n",
    "\n",
    "us_states_shp = gpd.read_file(\"https://www2.census.gov/geo/tiger/GENZ2018/shp/cb_2018_us_state_20m.zip\")[[\"geometry\", \"STUSPS\"]]\n",
    "study_area = us_states_shp[us_states_shp[\"STUSPS\"].isin([\"AK\", \"HI\", \"PR\", \"VI\", \"GU\", \"AS\", \"MP\", \"UM\"]) == False] # Remove non-continental US states\n",
    "\n",
    "landsat_scenes_shp = gpd.read_file(\"https://d9-wret.s3.us-west-2.amazonaws.com/assets/palladium/production/s3fs-public/atoms/files/WRS2_descending_0.zip\")[[\"PATH\", \"ROW\", \"geometry\"]]\n",
    "landsat_scenes_shp = process_geometry(landsat_scenes_shp, study_area)\n",
    "\n",
    "us_counties_shp = gpd.read_file(\"https://www2.census.gov/geo/tiger/GENZ2018/shp/cb_2018_us_county_20m.zip\")[[\"geometry\", \"STATEFP\", \"COUNTYFP\"]]\n",
    "us_counties_shp = process_geometry(us_counties_shp, study_area)\n",
    "\n",
    "us_regions_shp = gpd.read_file(\"https://www2.census.gov/geo/tiger/GENZ2018/shp/cb_2018_us_region_20m.zip\")[[\"geometry\", \"NAME\"]]\n",
    "us_regions_shp = process_geometry(us_regions_shp, study_area)\n",
    "\n",
    "msa_boundaries_shp = gpd.read_file(\"https://www2.census.gov/geo/tiger/GENZ2018/shp/cb_2018_us_csa_20m.zip\")[[\"CSAFP\", \"geometry\"]]\n",
    "msa_boundaries_shp = process_geometry(msa_boundaries_shp, study_area)\n",
    "\n",
    "# hexbins_250km = gpd.read_file(\"https://d9-wret.s3.us-west-2.amazonaws.com/assets/palladium/production/s3fs-public/atoms/files/250km_hexbins.zip\")[[\"geometry\"]]"
   ]
  },
  {
   "cell_type": "code",
   "execution_count": null,
   "metadata": {},
   "outputs": [],
   "source": [
    "# Number of scenes in the Continental US\n",
    "print(f\"Number of scenes in the Continental US: {len(landsat_scenes_shp)}\")"
   ]
  },
  {
   "cell_type": "markdown",
   "metadata": {},
   "source": [
    "## Save clipped landsat scenes to CSV without geometry"
   ]
  },
  {
   "cell_type": "code",
   "execution_count": null,
   "metadata": {},
   "outputs": [],
   "source": [
    "# saved landsat scenes clipped to study area without geometry\n",
    "landsat_scenes_shp[[\"PATH\", \"ROW\"]].to_csv(\"../../data/GIS/landsat_scenes_clipped.csv\", index=False)"
   ]
  },
  {
   "cell_type": "markdown",
   "metadata": {},
   "source": [
    "## Pack Sectors (nearest neighbors, sequential)"
   ]
  },
  {
   "cell_type": "code",
   "execution_count": null,
   "metadata": {},
   "outputs": [],
   "source": [
    "sector_scene_count = 25\n",
    "landsat_scenes_with_sectors = landsat_scenes_shp.copy()\n",
    "scenes = landsat_scenes_with_sectors[[\"PATH\", \"ROW\"]].sort_values(by=[\"PATH\", \"ROW\"]).values\n",
    "\n",
    "def array_present_in_array(array, array_to_check):\n",
    "    \"\"\"Check if an array is present in another array\"\"\"\n",
    "    if (array == array_to_check).all(1).any():\n",
    "        return True\n",
    "\n",
    "car_scenes = {}\n",
    "\n",
    "curr_indx = 0\n",
    " # While there are still scenes to be assigned to sectors\n",
    "while len(scenes) > 0:\n",
    "    current_sector = f\"Sector {curr_indx}\"\n",
    "    if len(scenes) < sector_scene_count:\n",
    "        car_scenes[current_sector] = scenes\n",
    "        break\n",
    "\n",
    "    tree = KDTree(scenes)\n",
    "    scene_to_query = scenes[0]\n",
    "    nearest_scene_indices = tree.query(scene_to_query, k=25)[1]\n",
    "    nearest_scenes = scenes[nearest_scene_indices]\n",
    "\n",
    "    car_scenes[current_sector] = nearest_scenes\n",
    "    # Remove the scenes that were assigned to the sector\n",
    "    scenes = np.delete(scenes, nearest_scene_indices, axis=0)\n",
    "    curr_indx += 1"
   ]
  },
  {
   "cell_type": "markdown",
   "metadata": {},
   "source": [
    "## Pack the sectors (Naive)"
   ]
  },
  {
   "cell_type": "code",
   "execution_count": null,
   "metadata": {},
   "outputs": [],
   "source": [
    "# sector_scene_count = 25\n",
    "# landsat_scenes_clipped_with_sectors = landsat_scenes_clipped.copy()\n",
    "# scenes = landsat_scenes_clipped_with_sectors[[\"PATH\", \"ROW\"]].values\n",
    "\n",
    "# car_scenes = {}\n",
    "# curr_indx = 0\n",
    "# while len(scenes) > 0:\n",
    "#     current_sector = f\"Sector {curr_indx}\"\n",
    "#     if len(scenes) < sector_scene_count:\n",
    "#         car_scenes[current_sector] = scenes\n",
    "#         break\n",
    "\n",
    "#     car_scenes[current_sector] = scenes[:sector_scene_count]\n",
    "#     scenes = scenes[sector_scene_count:] # Remove the scenes that were assigned to the sector\n",
    "#     curr_indx += 1"
   ]
  },
  {
   "cell_type": "markdown",
   "metadata": {},
   "source": [
    "## This is NOT efficient, but it works (Assign scenes to sectors and then drop path/row)"
   ]
  },
  {
   "cell_type": "code",
   "execution_count": null,
   "metadata": {},
   "outputs": [],
   "source": [
    "def array_present_in_array(array, array_to_check):\n",
    "    \"\"\"Check if an array is present in another array\"\"\"\n",
    "    if (array == array_to_check).all(1).any():\n",
    "        return True\n",
    "\n",
    "add_sector_to_scene = landsat_scenes_with_sectors.copy()\n",
    "for sector in car_scenes.items():\n",
    "    for row in add_sector_to_scene.itertuples():\n",
    "        if sector[0] == \"Sector 17\" and row.PATH == 32 and row.ROW == 32:\n",
    "            pass\n",
    "        if array_present_in_array(np.array([row.PATH, row.ROW]), sector[1]):\n",
    "            add_sector_to_scene.at[row.Index, \"Sector\"] = sector[0]\n",
    "\n",
    "add_sector_to_scene.drop(columns=[\"PATH\", \"ROW\"], inplace=True)"
   ]
  },
  {
   "cell_type": "markdown",
   "metadata": {},
   "source": [
    "## Intersect geometries with Landsat Scenes tagged with Sector ID"
   ]
  },
  {
   "cell_type": "code",
   "execution_count": null,
   "metadata": {},
   "outputs": [],
   "source": [
    "geometries_clipped_intersected = []\n",
    "for geometry in geometries_clipped[:-1]: # Leave out the landsat scenes\n",
    "    geometry = gpd.sjoin(geometry, add_sector_to_scene, how=\"inner\", predicate=\"intersects\").drop(columns=[\"geometry\", \"index_right\"])\n",
    "    geometries_clipped_intersected.append(geometry)"
   ]
  },
  {
   "cell_type": "markdown",
   "metadata": {},
   "source": [
    "## Combine all geometries into one dataframe"
   ]
  },
  {
   "cell_type": "code",
   "execution_count": null,
   "metadata": {},
   "outputs": [],
   "source": [
    "states = geometries_clipped_intersected[0]\n",
    "counties = geometries_clipped_intersected[1]\n",
    "regions = geometries_clipped_intersected[2]\n",
    "msa = geometries_clipped_intersected[3]"
   ]
  },
  {
   "cell_type": "markdown",
   "metadata": {},
   "source": [
    "## Save all the geometries to a CSV"
   ]
  },
  {
   "cell_type": "code",
   "execution_count": null,
   "metadata": {},
   "outputs": [],
   "source": [
    "# Save the geometries to CSV Files\n",
    "states.to_csv(\"../../data/GIS/states.csv\", index=False)"
   ]
  },
  {
   "cell_type": "markdown",
   "metadata": {},
   "source": [
    "## Summary Statistics (State)"
   ]
  },
  {
   "cell_type": "code",
   "execution_count": null,
   "metadata": {},
   "outputs": [],
   "source": [
    "# Group each state by STUSPS and count number of scenes in each state. Show a Sum of the total number of scenes.\n",
    "states_grouped = states.groupby(\"STUSPS\").agg({\"Sector\": \"count\"}).reset_index()\n",
    "states_grouped.rename(columns={\"Sector\": \"Scene Count\"}, inplace=True)\n",
    "states_grouped.sort_values(by=\"Scene Count\", ascending=False, inplace=True)\n",
    "# Show Scene whole number Count total \n",
    "states_grouped.loc[\"Total\"] = states_grouped[[\"Scene Count\"]].sum()\n",
    "states_grouped\n",
    "\n"
   ]
  },
  {
   "cell_type": "code",
   "execution_count": null,
   "metadata": {},
   "outputs": [],
   "source": [
    "# Group by STUSPS and add count of unqiue sectors in a new column called \"Sectors Hit\"\n",
    "states_grouped = states.groupby(\"STUSPS\").agg({\"Sector\": \"nunique\"}).reset_index().sort_values(by=\"Sector\", ascending=False)\n",
    "states_grouped.rename(coluåmns={\"Sector\": \"Sectors Hit\"}, inplace=True) \n",
    "states_grouped.head(50)\n",
    "\n"
   ]
  },
  {
   "cell_type": "code",
   "execution_count": null,
   "metadata": {},
   "outputs": [],
   "source": [
    "# Show standard deviation of sectors hit\n",
    "states_grouped[\"Sectors Hit\"].std()"
   ]
  },
  {
   "cell_type": "markdown",
   "metadata": {},
   "source": [
    "## Plot Results"
   ]
  },
  {
   "cell_type": "code",
   "execution_count": null,
   "metadata": {},
   "outputs": [],
   "source": [
    "# Plot the States with sectors shown with some transparency\n",
    "# ax = add_sector_to_scene.plot(column=\"Sector\", figsize=(20, 20), alpha=0.5, legend=True)\n",
    "# Plot the States with some transparency and dark borders.\n",
    "\n",
    "ax = add_sector_to_scene.plot(column=\"Sector\", legend=True, cmap=\"tab20\", figsize=(20, 20))\n",
    "us_states_continential.plot(ax=ax, color=\"none\", edgecolor=\"black\", linewidth=1)\n",
    "plt.title(\"Landsat Scenes and Sectors\")\n",
    "\n",
    "# Plot unqiue sectors with tab20 colors\n",
    "\n",
    "\n",
    "\n"
   ]
  }
 ],
 "metadata": {
  "kernelspec": {
   "display_name": "Python 3.10.8 ('venv': venv)",
   "language": "python",
   "name": "python3"
  },
  "language_info": {
   "codemirror_mode": {
    "name": "ipython",
    "version": 3
   },
   "file_extension": ".py",
   "mimetype": "text/x-python",
   "name": "python",
   "nbconvert_exporter": "python",
   "pygments_lexer": "ipython3",
   "version": "3.10.8"
  },
  "orig_nbformat": 4,
  "vscode": {
   "interpreter": {
    "hash": "fb06483d433fe4a4167710c74b044303c64c391fff93d157ac52bd32ba531e9e"
   }
  }
 },
 "nbformat": 4,
 "nbformat_minor": 2
}
